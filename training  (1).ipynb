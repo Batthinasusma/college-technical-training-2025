{
 "cells": [
  {
   "cell_type": "code",
   "execution_count": 1,
   "id": "735f76ba-790b-4318-8f1f-e2e4f3bb5115",
   "metadata": {},
   "outputs": [
    {
     "name": "stdin",
     "output_type": "stream",
     "text": [
      "Enter first number:  67\n",
      "Enter second number:  899\n",
      "Enter third number:  44\n"
     ]
    },
    {
     "name": "stdout",
     "output_type": "stream",
     "text": [
      "The First number is: 44\n"
     ]
    }
   ],
   "source": [
    "num1 = int(input(\"Enter first number: \"))\n",
    "num2 = int(input(\"Enter second number: \"))\n",
    "num3 = int(input(\"Enter third number: \"))\n",
    "\n",
    "if (num1 < num2 and num1 < num3) or (num1 < num3 and num1 < num2):\n",
    "    First = num1\n",
    "elif (num2 < num1 and num2 < num3) or (num2 < num3 and num2 < num1):\n",
    "    First = num2\n",
    "else:\n",
    "    First = num3\n",
    "\n",
    "print(f\"The First number is: {First}\")"
   ]
  },
  {
   "cell_type": "code",
   "execution_count": 10,
   "id": "10528865-390f-48d3-bfee-da46238b4c34",
   "metadata": {},
   "outputs": [
    {
     "name": "stdin",
     "output_type": "stream",
     "text": [
      "Enter the first number:  67\n",
      "Enter the second number:  78\n"
     ]
    },
    {
     "name": "stdout",
     "output_type": "stream",
     "text": [
      "Summation: 145\n",
      "Summation: 145\n"
     ]
    }
   ],
   "source": [
    "num1 = int(input(\"Enter the first number: \"))\n",
    "num2 = int(input(\"Enter the second number: \"))\n",
    "\n",
    "\n",
    "print(\"Summation:\", num1 + num2)\n",
    "print(f\"Summation: {num1 + num2}\")\n",
    "\n",
    "\n"
   ]
  },
  {
   "cell_type": "code",
   "execution_count": 1,
   "id": "b6a48e94-e3c1-4cff-a897-9194bc9e08e4",
   "metadata": {},
   "outputs": [
    {
     "name": "stdin",
     "output_type": "stream",
     "text": [
      "Enter the integer : 3\n"
     ]
    },
    {
     "name": "stdout",
     "output_type": "stream",
     "text": [
      "Digit\n",
      "Digit\n"
     ]
    }
   ],
   "source": [
    "num=int(input('Enter the integer :'))\n",
    "if(num>=-9 and num<=9):\n",
    "   print(\"Digit\")\n",
    "else:\n",
    "  print(\"number\")\n",
    "res=\"Digit\"if(num>=-9 and num<=9) else \"number\"\n",
    "print(res)"
   ]
  },
  {
   "cell_type": "code",
   "execution_count": 13,
   "id": "05a8562b-1865-4d73-8569-51093fd1e087",
   "metadata": {},
   "outputs": [
    {
     "name": "stdin",
     "output_type": "stream",
     "text": [
      "Enter the firt integer: 54\n",
      "Enter the second integer: 76\n"
     ]
    },
    {
     "name": "stdout",
     "output_type": "stream",
     "text": [
      "54is smallest number.\n",
      "54is smallest number.\n"
     ]
    }
   ],
   "source": [
    "num1=int(input('Enter the firt integer:'))\n",
    "num2=int(input('Enter the second integer:'))\n",
    "if(num1<num2):\n",
    "    print(f\"{num1}is smallest number.\")\n",
    "else:\n",
    "    print(f\"{num2}is smallest number.\")\n",
    "res=num1 if(num1<num2) else num2\n",
    "print(f\"{res}is smallest number.\")"
   ]
  },
  {
   "cell_type": "code",
   "execution_count": 14,
   "id": "bac1b3d2-10de-445a-bfa0-85c4352fdf0f",
   "metadata": {},
   "outputs": [
    {
     "name": "stdin",
     "output_type": "stream",
     "text": [
      "Enter the integer : 56\n"
     ]
    },
    {
     "name": "stdout",
     "output_type": "stream",
     "text": [
      "Two Digit number\n"
     ]
    }
   ],
   "source": [
    "num=int(input('Enter the integer :'))\n",
    "if(num>=10 and num<=99) or (num>=-99 and num<=-10):\n",
    "   print(\"Two Digit number\")\n",
    "else:\n",
    "  print(\" not a Two Digit number\")\n",
    "\n",
    "  "
   ]
  },
  {
   "cell_type": "code",
   "execution_count": 16,
   "id": "ce317805-b09a-4c66-803e-5bbd59df4f92",
   "metadata": {},
   "outputs": [
    {
     "name": "stdin",
     "output_type": "stream",
     "text": [
      "Enter the integer : 66\n"
     ]
    },
    {
     "name": "stdout",
     "output_type": "stream",
     "text": [
      " not a Three Digit number\n"
     ]
    }
   ],
   "source": [
    "num=int(input('Enter the integer :'))\n",
    "if(100<=num and num<=999):\n",
    "   print(\"Three Digit number\")\n",
    "else:\n",
    "  print(\" not a Three Digit number\")\n"
   ]
  },
  {
   "cell_type": "code",
   "execution_count": 7,
   "id": "49277f3a-381d-4b34-9409-3a484c8d7a32",
   "metadata": {},
   "outputs": [
    {
     "name": "stdin",
     "output_type": "stream",
     "text": [
      "Enter first number:  78\n",
      "Enter second number:  56\n",
      "Enter third number:  89\n"
     ]
    },
    {
     "name": "stdout",
     "output_type": "stream",
     "text": [
      "89is largest number\n",
      "The largest number is:\n"
     ]
    }
   ],
   "source": [
    "num1 = int(input(\"Enter first number: \"))\n",
    "num2 = int(input(\"Enter second number: \"))\n",
    "num3 = int(input(\"Enter third number: \"))\n",
    "\n",
    "# Finding the largest number\n",
    "if (num1>=num2) and (num1>=num3):\n",
    "    print(f\"{num1}is largest number\")\n",
    "elif (num2>=num1) and (num2>=num3):\n",
    "    print(f\"{num2}is largest number\")\n",
    "else:\n",
    "    print(f\"{num3}is largest number\")\n",
    "\n",
    "# Display result\n",
    "print(f\"The largest number is:\")\n"
   ]
  },
  {
   "cell_type": "code",
   "execution_count": 8,
   "id": "383ac558-7c98-46ed-b662-6dc308a0cfe0",
   "metadata": {},
   "outputs": [
    {
     "name": "stdin",
     "output_type": "stream",
     "text": [
      "Enter first number:  76\n",
      "Enter second number:  89\n",
      "Enter third number:  56\n"
     ]
    },
    {
     "name": "stdout",
     "output_type": "stream",
     "text": [
      "56is smallest  number\n",
      "The smallest number:\n"
     ]
    }
   ],
   "source": [
    "num1 = int(input(\"Enter first number: \"))\n",
    "num2 = int(input(\"Enter second number: \"))\n",
    "num3 = int(input(\"Enter third number: \"))\n",
    "\n",
    "# Finding the largest number\n",
    "if (num1<=num2) and (num1<=num3):\n",
    "    print(f\"{num1}is smallest number\")\n",
    "elif (num2<=num1) and (num2<=num3):\n",
    "    print(f\"{num2}is smallest number\")\n",
    "else:\n",
    "    print(f\"{num3}is smallest  number\")\n",
    "\n",
    "# Display result\n",
    "print(f\"The smallest number:\")"
   ]
  },
  {
   "cell_type": "code",
   "execution_count": 9,
   "id": "99002de6-1727-49ea-ab95-0da56b6014ed",
   "metadata": {},
   "outputs": [
    {
     "name": "stdin",
     "output_type": "stream",
     "text": [
      "Enter first number:  67\n",
      "Enter second number:  56\n",
      "Enter third number:  45\n"
     ]
    },
    {
     "name": "stdout",
     "output_type": "stream",
     "text": [
      "45 is the smallest number\n"
     ]
    }
   ],
   "source": [
    "num1 = int(input(\"Enter first number: \"))\n",
    "num2 = int(input(\"Enter second number: \"))\n",
    "num3 = int(input(\"Enter third number: \"))\n",
    "\n",
    "# Find smallest using ternary operator\n",
    "smallest = num1 if (num1 < num2 and num1 < num3) else (num2 if num2 < num3 else num3)\n",
    "\n",
    "print(f\"{smallest} is the smallest number\")\n"
   ]
  },
  {
   "cell_type": "code",
   "execution_count": 10,
   "id": "6d8f89ba-6ebc-4eae-9955-aa6599d40689",
   "metadata": {},
   "outputs": [
    {
     "name": "stdin",
     "output_type": "stream",
     "text": [
      "Enter first number:  67\n",
      "Enter second number:  45\n",
      "Enter third number:  34\n"
     ]
    },
    {
     "name": "stdout",
     "output_type": "stream",
     "text": [
      "The middle number is: 45\n"
     ]
    }
   ],
   "source": [
    "num1 = int(input(\"Enter first number: \"))\n",
    "num2 = int(input(\"Enter second number: \"))\n",
    "num3 = int(input(\"Enter third number: \"))\n",
    "\n",
    "if (num1 > num2 and num1 < num3) or (num1 > num3 and num1 < num2):\n",
    "    middle = num1\n",
    "elif (num2 > num1 and num2 < num3) or (num2 > num3 and num2 < num1):\n",
    "    middle = num2\n",
    "else:\n",
    "    middle = num3\n",
    "\n",
    "print(f\"The middle number is: {middle}\")\n"
   ]
  },
  {
   "cell_type": "code",
   "execution_count": 11,
   "id": "4b323752-d407-4544-b59f-1c6b1d3d3bf5",
   "metadata": {},
   "outputs": [
    {
     "name": "stdin",
     "output_type": "stream",
     "text": [
      "Enter first number:  32\n",
      "Enter second number:  33\n",
      "Enter third number:  78\n"
     ]
    },
    {
     "name": "stdout",
     "output_type": "stream",
     "text": [
      "The First number is: 32\n"
     ]
    }
   ],
   "source": [
    "num1 = int(input(\"Enter first number: \"))\n",
    "num2 = int(input(\"Enter second number: \"))\n",
    "num3 = int(input(\"Enter third number: \"))\n",
    "\n",
    "if (num1 < num2 and num1 < num3) or (num1 < num3 and num1 < num2):\n",
    "    First = num1\n",
    "elif (num2 < num1 and num2 < num3) or (num2 < num3 and num2 < num1):\n",
    "    First = num2\n",
    "else:\n",
    "    First = num3\n",
    "\n",
    "print(f\"The First number is: {First}\")"
   ]
  },
  {
   "cell_type": "markdown",
   "id": "a40cd8cc-3f37-4520-a87f-c53151f45077",
   "metadata": {},
   "source": [
    "###### month = int(input(\"Enter month number (1-12): \"))\n",
    "if 1 <= month <= 12:\n",
    "    print(f\"{month} is a valid month number.\")\n",
    "else:\n",
    "    print(f\"{month} is not a valid month number.\")\n",
    "    "
   ]
  },
  {
   "cell_type": "code",
   "execution_count": 13,
   "id": "59d19918-7a64-4391-84ce-dd491505e89c",
   "metadata": {},
   "outputs": [
    {
     "name": "stdin",
     "output_type": "stream",
     "text": [
      "Enter month number (1-12):  6\n"
     ]
    },
    {
     "name": "stdout",
     "output_type": "stream",
     "text": [
      "6 is a valid month number.\n"
     ]
    }
   ],
   "source": [
    "month = int(input(\"Enter month number (1-12): \"))\n",
    "if 1 <= month <= 12:\n",
    "    print(f\"{month} is a valid month number.\")\n",
    "else:\n",
    "    print(f\"{month} is not a valid month number.\")"
   ]
  },
  {
   "cell_type": "code",
   "execution_count": 14,
   "id": "cdfcafdb-7714-4b2d-aa67-94fa1f840cd1",
   "metadata": {},
   "outputs": [
    {
     "name": "stdin",
     "output_type": "stream",
     "text": [
      "Enter the age:  45\n"
     ]
    },
    {
     "name": "stdout",
     "output_type": "stream",
     "text": [
      "Eligible for vote\n"
     ]
    }
   ],
   "source": [
    "num = int(input(\"Enter the age: \"))\n",
    "\n",
    "if num >= 18:\n",
    "    print(\"Eligible for vote\")\n",
    "else:\n",
    "    print(\"Not eligible for vote\")"
   ]
  },
  {
   "cell_type": "code",
   "execution_count": 15,
   "id": "ca49a1ae-193c-4e41-90be-d01e20033a40",
   "metadata": {},
   "outputs": [
    {
     "name": "stdin",
     "output_type": "stream",
     "text": [
      "Enter a number:  234\n"
     ]
    },
    {
     "name": "stdout",
     "output_type": "stream",
     "text": [
      "234 is Even\n"
     ]
    }
   ],
   "source": [
    "num = int(input(\"Enter a number: \"))\n",
    "\n",
    "if num % 2 == 0:\n",
    "    print(f\"{num} is Even\")\n",
    "else:\n",
    "    print(f\"{num} is Odd\")"
   ]
  },
  {
   "cell_type": "code",
   "execution_count": 16,
   "id": "584f98b0-c1d5-4fb7-b262-3a8d66bc79a6",
   "metadata": {},
   "outputs": [
    {
     "name": "stdin",
     "output_type": "stream",
     "text": [
      "Enter a integer 45\n"
     ]
    },
    {
     "name": "stdout",
     "output_type": "stream",
     "text": [
      "multiple of 3 and 5\n"
     ]
    }
   ],
   "source": [
    "num=int(input(\"Enter a integer\"))\n",
    "if(num%3==0 and num%5==0):\n",
    "   print(\"multiple of 3 and 5\")\n",
    "else:\n",
    "   print(\"not multiple of 3 and 5\")"
   ]
  },
  {
   "cell_type": "code",
   "execution_count": 17,
   "id": "be4f1b8f-a766-4bc1-92c3-db9c7a2a4d2b",
   "metadata": {},
   "outputs": [
    {
     "name": "stdin",
     "output_type": "stream",
     "text": [
      "Enter the month number: 45\n"
     ]
    },
    {
     "name": "stdout",
     "output_type": "stream",
     "text": [
      "Invalid month\n"
     ]
    }
   ],
   "source": [
    "m=int(input(\"Enter the month number:\"))\n",
    "if(m==1 or m==3 or m==5 or m==7 or m==8 or m==10 or m==12):\n",
    "  print(\"31 days\")\n",
    "elif(m==4 or m==6 or m==9 or m==11):\n",
    "  print(\"30 days\")\n",
    "elif(m==2):\n",
    "  print(\"28 or 29 days\")\n",
    "else:\n",
    "  print(\"Invalid month\")"
   ]
  },
  {
   "cell_type": "code",
   "execution_count": 21,
   "id": "2cc5e4bc-e4d5-41ee-999d-55cd0c813c96",
   "metadata": {},
   "outputs": [
    {
     "name": "stdin",
     "output_type": "stream",
     "text": [
      "Enter the integer 8\n"
     ]
    },
    {
     "name": "stdout",
     "output_type": "stream",
     "text": [
      "Buzz\n"
     ]
    }
   ],
   "source": [
    "num=int(input(\"Enter the integer\"))\n",
    "if(num%3==0 and num%5==0):\n",
    "   print(\"Fizz Buzz\")\n",
    "elif(num%3==0):\n",
    "  print(\"Fizz\")\n",
    "elif(num%5):\n",
    "  print(\"Buzz\")\n"
   ]
  },
  {
   "cell_type": "code",
   "execution_count": 2,
   "id": "41903ca9-d6a1-40ef-a57e-d8635ba50f8c",
   "metadata": {},
   "outputs": [
    {
     "name": "stdin",
     "output_type": "stream",
     "text": [
      "Enter the amount:  4760\n"
     ]
    },
    {
     "name": "stdout",
     "output_type": "stream",
     "text": [
      "500 ------------> 9\n",
      "200 ------------> 1\n",
      "100 ------------> 0\n",
      "50 ------------> 1\n",
      "20 ------------> 0\n",
      "10 ------------> 1\n",
      "5 ------------> 0\n",
      "2 ------------> 0\n",
      "1 ------------> 0\n"
     ]
    }
   ],
   "source": [
    "amount = int(input(\"Enter the amount: \"))\n",
    "print(f\"500 ------------> {amount//500}\")\n",
    "amount = amount % 500\n",
    "print(f\"200 ------------> {amount//200}\")\n",
    "amount = amount % 200\n",
    "print(f\"100 ------------> {amount//100}\")\n",
    "amount = amount % 100\n",
    "print(f\"50 ------------> {amount//50}\")\n",
    "amount = amount % 50\n",
    "print(f\"20 ------------> {amount//20}\")\n",
    "amount = amount % 20\n",
    "print(f\"10 ------------> {amount//10}\")\n",
    "amount = amount % 10\n",
    "print(f\"5 ------------> {amount//5}\")\n",
    "amount = amount % 5\n",
    "print(f\"2 ------------> {amount//2}\")\n",
    "amount = amount % 2\n",
    "print(f\"1 ------------> {amount//1}\")"
   ]
  },
  {
   "cell_type": "code",
   "execution_count": null,
   "id": "9c8ad7a4-39fc-498f-8d5f-8ca2c27abc35",
   "metadata": {},
   "outputs": [],
   "source": []
  }
 ],
 "metadata": {
  "kernelspec": {
   "display_name": "Python 3 (ipykernel)",
   "language": "python",
   "name": "python3"
  },
  "language_info": {
   "codemirror_mode": {
    "name": "ipython",
    "version": 3
   },
   "file_extension": ".py",
   "mimetype": "text/x-python",
   "name": "python",
   "nbconvert_exporter": "python",
   "pygments_lexer": "ipython3",
   "version": "3.13.6"
  }
 },
 "nbformat": 4,
 "nbformat_minor": 5
}
